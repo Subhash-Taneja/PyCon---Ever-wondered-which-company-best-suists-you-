{
 "cells": [
  {
   "cell_type": "code",
   "execution_count": 145,
   "metadata": {},
   "outputs": [],
   "source": [
    "import pandas as pd\n",
    "import math\n",
    "from textblob import TextBlob as tb"
   ]
  },
  {
   "cell_type": "code",
   "execution_count": 146,
   "metadata": {
    "collapsed": true
   },
   "outputs": [],
   "source": [
    "from nltk.corpus import stopwords\n",
    "from nltk.tokenize import word_tokenize"
   ]
  },
  {
   "cell_type": "code",
   "execution_count": 148,
   "metadata": {},
   "outputs": [
    {
     "name": "stdout",
     "output_type": "stream",
     "text": [
      "[nltk_data] Downloading package stopwords to\n",
      "[nltk_data]     C:\\Users\\aq12\\AppData\\Roaming\\nltk_data...\n",
      "[nltk_data]   Package stopwords is already up-to-date!\n",
      "[nltk_data] Downloading package punkt to\n",
      "[nltk_data]     C:\\Users\\aq12\\AppData\\Roaming\\nltk_data...\n",
      "[nltk_data]   Package punkt is already up-to-date!\n"
     ]
    },
    {
     "data": {
      "text/plain": [
       "True"
      ]
     },
     "execution_count": 148,
     "metadata": {},
     "output_type": "execute_result"
    }
   ],
   "source": [
    "import nltk\n",
    "nltk.download('stopwords')\n",
    "nltk.download('punkt')"
   ]
  },
  {
   "cell_type": "code",
   "execution_count": 147,
   "metadata": {},
   "outputs": [
    {
     "name": "stdout",
     "output_type": "stream",
     "text": [
      "sample sentence showing stop words filtration\n"
     ]
    }
   ],
   "source": [
    "example_sent = \"This is a sample sentence, showing off the stop words filtration.\"\n",
    "\n",
    "punctuation = set(['.','<','>', '?', '!', ',', '$', ':', ';', '(',')','-',\"`\",'\\'','\"','>>','|','.\"',',\"','@','#','%','^','*','&'])\n",
    "stop_words = set(stopwords.words('english'))| punctuation\n",
    "\n",
    "def clean_sentence(example_sent):\n",
    "    word_tokens = word_tokenize(example_sent)\n",
    "    filtered_sentence = [w for w in word_tokens if not w.lower() in stop_words]\n",
    "    a = ( ' '.join(word for word in filtered_sentence))\n",
    "    return a\n",
    "\n",
    "print(clean_sentence(example_sent))"
   ]
  },
  {
   "cell_type": "code",
   "execution_count": null,
   "metadata": {
    "collapsed": true
   },
   "outputs": [],
   "source": []
  },
  {
   "cell_type": "code",
   "execution_count": null,
   "metadata": {
    "collapsed": true
   },
   "outputs": [],
   "source": []
  },
  {
   "cell_type": "code",
   "execution_count": 111,
   "metadata": {},
   "outputs": [],
   "source": [
    "frame = pd.read_csv(\"D:/Python Working Directory/8. Mini_Project/Themes/Management.csv\", encoding = \"ISO-8859-1\")"
   ]
  },
  {
   "cell_type": "code",
   "execution_count": 112,
   "metadata": {},
   "outputs": [
    {
     "name": "stdout",
     "output_type": "stream",
     "text": [
      "0    > Good working environment> Supportive managem...\n",
      "1       1. Good employee benefits.2. Great management.\n",
      "2      Management good; HR good; Floor space excellent\n",
      "3    Transparent management, good culture, good man...\n",
      "4     Very good culture. People focused & encourage...\n",
      "Name: Pros, dtype: object\n"
     ]
    }
   ],
   "source": [
    "print(frame['Pros'].head(5))"
   ]
  },
  {
   "cell_type": "code",
   "execution_count": 113,
   "metadata": {},
   "outputs": [
    {
     "data": {
      "text/plain": [
       "TextBlob(\"> Good working environment> Supportive management> Excellent Transport facility\")"
      ]
     },
     "execution_count": 113,
     "metadata": {},
     "output_type": "execute_result"
    }
   ],
   "source": [
    "pros_list = list(frame['Pros'])\n",
    "tb(pros_list[0])"
   ]
  },
  {
   "cell_type": "code",
   "execution_count": 115,
   "metadata": {},
   "outputs": [],
   "source": [
    "pros_list = list(frame['Pros'])\n",
    "pros_filtered_list = list(map(clean_sentence ,pros_list))"
   ]
  },
  {
   "cell_type": "code",
   "execution_count": 116,
   "metadata": {},
   "outputs": [],
   "source": [
    "bloblist = []\n",
    "for sentence in pros_filtered_list:\n",
    "    blob = tb(sentence)\n",
    "    bloblist.append(blob)"
   ]
  },
  {
   "cell_type": "code",
   "execution_count": 117,
   "metadata": {
    "collapsed": true
   },
   "outputs": [],
   "source": [
    "def tf(word, blob):\n",
    "    return blob.words.count(word) / len(blob.words)\n",
    "\n",
    "def n_containing(word, bloblist):\n",
    "    return sum(1 for blob in bloblist if word in blob)\n",
    "\n",
    "def idf(word, bloblist):\n",
    "    return math.log(len(bloblist) / (1 + n_containing(word, bloblist)))\n",
    "\n",
    "def tfidf(word, blob, bloblist):\n",
    "    return tf(word, blob) * idf(word, bloblist)"
   ]
  },
  {
   "cell_type": "code",
   "execution_count": 118,
   "metadata": {},
   "outputs": [
    {
     "name": "stdout",
     "output_type": "stream",
     "text": [
      "Top words in document 1\n",
      "Word: Transport, TF-IDF: 0.35778\n",
      "Word: facility, TF-IDF: 0.35778\n",
      "Word: Supportive, TF-IDF: 0.30709\n",
      "Top words in document 2\n",
      "Word: benefits.2, TF-IDF: 0.47703\n",
      "Word: 1, TF-IDF: 0.36151\n",
      "Word: Great, TF-IDF: 0.36151\n",
      "Top words in document 3\n",
      "Word: HR, TF-IDF: 0.40889\n",
      "Word: Floor, TF-IDF: 0.40889\n",
      "Word: space, TF-IDF: 0.35096\n",
      "Top words in document 4\n",
      "Word: Transparent, TF-IDF: 0.35778\n",
      "Word: managers, TF-IDF: 0.35778\n",
      "Word: learning, TF-IDF: 0.30709\n",
      "Top words in document 5\n",
      "Word: Process, TF-IDF: 0.20444\n",
      "Word: process, TF-IDF: 0.20444\n",
      "Word: People, TF-IDF: 0.17548\n",
      "Top words in document 6\n",
      "Word: Friendly, TF-IDF: 0.30709\n",
      "Word: Work-Life, TF-IDF: 0.30709\n",
      "Word: working, TF-IDF: 0.27113\n",
      "Top words in document 7\n",
      "Word: transformation, TF-IDF: 0.33673\n",
      "Word: Making, TF-IDF: 0.16836\n",
      "Word: rapid, TF-IDF: 0.16836\n",
      "Top words in document 8\n",
      "Word: change, TF-IDF: 0.1363\n",
      "Word: many, TF-IDF: 0.1363\n",
      "Word: provided, TF-IDF: 0.1363\n",
      "Top words in document 9\n",
      "Word: get, TF-IDF: 0.35778\n",
      "Word: independence, TF-IDF: 0.35778\n",
      "Word: without, TF-IDF: 0.35778\n",
      "Top words in document 10\n",
      "Word: atmosphere, TF-IDF: 0.57244\n",
      "Word: professional, TF-IDF: 0.28622\n",
      "Word: Supportive, TF-IDF: 0.24567\n",
      "Top words in document 11\n",
      "Word: breath, TF-IDF: 0.40889\n",
      "Word: ambitious, TF-IDF: 0.40889\n",
      "Word: strong, TF-IDF: 0.40889\n",
      "Top words in document 12\n",
      "Word: Work, TF-IDF: 0.18449\n",
      "Word: balanceGood, TF-IDF: 0.17889\n",
      "Word: Innovative, TF-IDF: 0.17889\n",
      "Top words in document 13\n",
      "Word: helpful, TF-IDF: 0.57244\n",
      "Word: Growth, TF-IDF: 0.57244\n",
      "Word: Campus, TF-IDF: 0.49135\n",
      "Top words in document 14\n",
      "Word: used, TF-IDF: 0.22334\n",
      "Word: specialise, TF-IDF: 0.1301\n",
      "Word: landmark, TF-IDF: 0.1301\n",
      "Top words in document 15\n",
      "Word: Helpful, TF-IDF: 0.31802\n",
      "Word: Understanding, TF-IDF: 0.31802\n",
      "Word: Indian, TF-IDF: 0.31802\n",
      "Top words in document 16\n",
      "Word: learn, TF-IDF: 0.29263\n",
      "Word: meet, TF-IDF: 0.2602\n",
      "Word: stakeholder, TF-IDF: 0.2602\n",
      "Top words in document 17\n",
      "Word: supportive, TF-IDF: 0.40889\n",
      "Word: culture, TF-IDF: 0.19402\n",
      "Word: work, TF-IDF: 0.18999\n",
      "Top words in document 18\n",
      "Word: learning, TF-IDF: 0.49135\n",
      "Word: growth, TF-IDF: 0.43381\n",
      "Word: culture, TF-IDF: 0.27162\n",
      "Top words in document 19\n",
      "Word: Good, TF-IDF: 0.30543\n",
      "Word: Management, TF-IDF: 0.24598\n",
      "Word: life, TF-IDF: 0.20879\n",
      "Top words in document 20\n",
      "Word: cultureCompany, TF-IDF: 0.12444\n",
      "Word: focuses, TF-IDF: 0.12444\n",
      "Word: balancePlanned, TF-IDF: 0.12444\n",
      "Top words in document 21\n",
      "Word: Work, TF-IDF: 0.16399\n",
      "Word: benefits, TF-IDF: 0.0964\n",
      "Word: company, TF-IDF: 0.0964\n",
      "Top words in document 22\n",
      "Word: decent, TF-IDF: 0.23852\n",
      "Word: Decent, TF-IDF: 0.18075\n",
      "Word: fairly, TF-IDF: 0.11926\n",
      "Top words in document 23\n",
      "Word: nice, TF-IDF: 0.40889\n",
      "Word: campus, TF-IDF: 0.25194\n",
      "Word: life, TF-IDF: 0.17897\n",
      "Top words in document 24\n",
      "Word: divided, TF-IDF: 0.35778\n",
      "Word: hence, TF-IDF: 0.35778\n",
      "Word: necessity, TF-IDF: 0.35778\n",
      "Top words in document 25\n",
      "Word: Work, TF-IDF: 0.27673\n",
      "Word: flexible, TF-IDF: 0.17889\n",
      "Word: Less, TF-IDF: 0.17889\n",
      "Top words in document 26\n",
      "Word: excellent, TF-IDF: 0.27799\n",
      "Word: best, TF-IDF: 0.20444\n",
      "Word: start, TF-IDF: 0.20444\n",
      "Top words in document 27\n",
      "Word: Meena, TF-IDF: 0.14311\n",
      "Word: Ganesh, TF-IDF: 0.14311\n",
      "Word: brought, TF-IDF: 0.14311\n",
      "Top words in document 28\n",
      "Word: Open, TF-IDF: 0.11926\n",
      "Word: interaction, TF-IDF: 0.11926\n",
      "Word: boundaries, TF-IDF: 0.11926\n",
      "Top words in document 29\n",
      "Word: levels, TF-IDF: 0.28622\n",
      "Word: security, TF-IDF: 0.28622\n",
      "Word: Work-Life, TF-IDF: 0.24567\n",
      "Top words in document 30\n",
      "Word: awesome, TF-IDF: 0.47703\n",
      "Word: People, TF-IDF: 0.40946\n",
      "Word: friendly, TF-IDF: 0.40946\n",
      "Top words in document 31\n",
      "Word: Great, TF-IDF: 0.18861\n",
      "Word: travel, TF-IDF: 0.12444\n",
      "Word: opportunities2, TF-IDF: 0.12444\n",
      "Top words in document 32\n",
      "Word: love, TF-IDF: 0.35778\n",
      "Word: lots, TF-IDF: 0.35778\n",
      "Word: time, TF-IDF: 0.35778\n",
      "Top words in document 33\n",
      "Word: learn, TF-IDF: 0.20118\n",
      "Word: Challenging, TF-IDF: 0.17889\n",
      "Word: roles, TF-IDF: 0.17889\n",
      "Top words in document 34\n",
      "Word: looking, TF-IDF: 0.23852\n",
      "Word: including, TF-IDF: 0.23852\n",
      "Word: cabs, TF-IDF: 0.23852\n",
      "Top words in document 35\n",
      "Word: world, TF-IDF: 0.40889\n",
      "Word: exposure, TF-IDF: 0.35096\n",
      "Word: UK, TF-IDF: 0.35096\n"
     ]
    }
   ],
   "source": [
    "for i, blob in enumerate(bloblist):\n",
    "    print(\"Top words in document {}\".format(i + 1))\n",
    "    scores = {word: tfidf(word, blob, bloblist) for word in blob.words}\n",
    "    sorted_words = sorted(scores.items(), key=lambda x: x[1], reverse=True)\n",
    "    for word, score in sorted_words[:3]:\n",
    "        print(\"Word: {}, TF-IDF: {}\".format(word, round(score, 5)))"
   ]
  },
  {
   "cell_type": "code",
   "execution_count": 119,
   "metadata": {},
   "outputs": [
    {
     "name": "stdout",
     "output_type": "stream",
     "text": [
      "[('world', 0.4088858401327812), ('exposure', 0.35096225326018626), ('UK', 0.35096225326018626), ('Excellent', 0.277987164150759), ('retail', 0.25194122746590836), ('Good', 0.13089867598202215), ('management', 0.026864604500419945)]\n",
      "{'Good': 0.13089867598202215, 'exposure': 0.35096225326018626, 'retail': 0.25194122746590836, 'world': 0.4088858401327812, 'Excellent': 0.277987164150759, 'management': 0.026864604500419945, 'UK': 0.35096225326018626}\n"
     ]
    }
   ],
   "source": [
    "print(sorted_words)\n",
    "print(scores)"
   ]
  },
  {
   "cell_type": "code",
   "execution_count": 128,
   "metadata": {
    "scrolled": true
   },
   "outputs": [
    {
     "name": "stdout",
     "output_type": "stream",
     "text": [
      "Top words in document 1\n",
      "sorted_words 8\n",
      "all_words 1\n",
      "Top words in document 2\n",
      "sorted_words 6\n",
      "all_words 2\n",
      "Top words in document 3\n",
      "sorted_words 6\n",
      "all_words 3\n",
      "Top words in document 4\n",
      "sorted_words 7\n",
      "all_words 4\n",
      "Top words in document 5\n",
      "sorted_words 27\n",
      "all_words 5\n",
      "Top words in document 6\n",
      "sorted_words 8\n",
      "all_words 6\n",
      "Top words in document 7\n",
      "sorted_words 16\n",
      "all_words 7\n",
      "Top words in document 8\n",
      "sorted_words 21\n",
      "all_words 8\n",
      "Top words in document 9\n",
      "sorted_words 8\n",
      "all_words 9\n",
      "Top words in document 10\n",
      "sorted_words 7\n",
      "all_words 10\n",
      "Top words in document 11\n",
      "sorted_words 7\n",
      "all_words 11\n",
      "Top words in document 12\n",
      "sorted_words 16\n",
      "all_words 12\n",
      "Top words in document 13\n",
      "sorted_words 5\n",
      "all_words 13\n",
      "Top words in document 14\n",
      "sorted_words 20\n",
      "all_words 14\n",
      "Top words in document 15\n",
      "sorted_words 9\n",
      "all_words 15\n",
      "Top words in document 16\n",
      "sorted_words 10\n",
      "all_words 16\n",
      "Top words in document 17\n",
      "sorted_words 6\n",
      "all_words 17\n",
      "Top words in document 18\n",
      "sorted_words 5\n",
      "all_words 18\n",
      "Top words in document 19\n",
      "sorted_words 6\n",
      "all_words 19\n",
      "Top words in document 20\n",
      "sorted_words 21\n",
      "all_words 20\n",
      "Top words in document 21\n",
      "sorted_words 39\n",
      "all_words 21\n",
      "Top words in document 22\n",
      "sorted_words 23\n",
      "all_words 22\n",
      "Top words in document 23\n",
      "sorted_words 7\n",
      "all_words 23\n",
      "Top words in document 24\n",
      "sorted_words 8\n",
      "all_words 24\n",
      "Top words in document 25\n",
      "sorted_words 15\n",
      "all_words 25\n",
      "Top words in document 26\n",
      "sorted_words 13\n",
      "all_words 26\n",
      "Top words in document 27\n",
      "sorted_words 20\n",
      "all_words 27\n",
      "Top words in document 28\n",
      "sorted_words 24\n",
      "all_words 28\n",
      "Top words in document 29\n",
      "sorted_words 10\n",
      "all_words 29\n",
      "Top words in document 30\n",
      "sorted_words 6\n",
      "all_words 30\n",
      "Top words in document 31\n",
      "sorted_words 22\n",
      "all_words 31\n",
      "Top words in document 32\n",
      "sorted_words 8\n",
      "all_words 32\n",
      "Top words in document 33\n",
      "sorted_words 15\n",
      "all_words 33\n",
      "Top words in document 34\n",
      "sorted_words 11\n",
      "all_words 34\n",
      "Top words in document 35\n",
      "sorted_words 7\n",
      "all_words 35\n"
     ]
    }
   ],
   "source": [
    "all_words =[]\n",
    "for i, blob in enumerate(bloblist):\n",
    "    print(\"Top words in document {}\".format(i + 1))\n",
    "    scores = {word: tfidf(word, blob, bloblist) for word in blob.words}\n",
    "    sorted_words = sorted(scores.items(), key=lambda x: x[1], reverse=True)\n",
    "    all_words.append(sorted_words)\n",
    "    print(\"sorted_words \"+str(len(sorted_words)))\n",
    "    print(\"all_words \"+str(len(all_words)))\n",
    "\n",
    "#all_words = sorted(scores.items(), key=lambda x: x[1], reverse=True)"
   ]
  },
  {
   "cell_type": "code",
   "execution_count": 130,
   "metadata": {},
   "outputs": [
    {
     "name": "stdout",
     "output_type": "stream",
     "text": [
      "35\n",
      "[('Transport', 0.35777511011618357), ('facility', 0.35777511011618357), ('Supportive', 0.307091971602663), ('working', 0.2711317125461904), ('environment', 0.2711317125461904), ('Excellent', 0.24323876863191415), ('Good', 0.11453634148426939), ('management', 0.023506528937867453)]\n"
     ]
    }
   ],
   "source": [
    "print(len(all_words))\n",
    "print(all_words[0])"
   ]
  },
  {
   "cell_type": "code",
   "execution_count": 132,
   "metadata": {
    "scrolled": true
   },
   "outputs": [
    {
     "data": {
      "text/plain": [
       "[('Transport', 0.35777511011618357),\n",
       " ('facility', 0.35777511011618357),\n",
       " ('Supportive', 0.307091971602663),\n",
       " ('benefits.2', 0.4770334801549114),\n",
       " ('1', 0.3615089500615872),\n",
       " ('Great', 0.3615089500615872),\n",
       " ('HR', 0.4088858401327812),\n",
       " ('Floor', 0.4088858401327812),\n",
       " ('space', 0.35096225326018626),\n",
       " ('Transparent', 0.35777511011618357),\n",
       " ('managers', 0.35777511011618357),\n",
       " ('learning', 0.307091971602663),\n",
       " ('Process', 0.2044429200663906),\n",
       " ('process', 0.2044429200663906),\n",
       " ('People', 0.17548112663009313),\n",
       " ('Friendly', 0.307091971602663),\n",
       " ('Work-Life', 0.307091971602663),\n",
       " ('working', 0.2711317125461904),\n",
       " ('transformation', 0.3367295154034669),\n",
       " ('Making', 0.16836475770173345),\n",
       " ('rapid', 0.16836475770173345),\n",
       " ('change', 0.1362952800442604),\n",
       " ('many', 0.1362952800442604),\n",
       " ('provided', 0.1362952800442604),\n",
       " ('get', 0.35777511011618357),\n",
       " ('independence', 0.35777511011618357),\n",
       " ('without', 0.35777511011618357),\n",
       " ('atmosphere', 0.5724401761858937),\n",
       " ('professional', 0.28622008809294686),\n",
       " ('Supportive', 0.2456735772821304),\n",
       " ('breath', 0.4088858401327812),\n",
       " ('ambitious', 0.4088858401327812),\n",
       " ('strong', 0.4088858401327812),\n",
       " ('Work', 0.18448831497619722),\n",
       " ('balanceGood', 0.17888755505809179),\n",
       " ('Innovative', 0.17888755505809179),\n",
       " ('helpful', 0.5724401761858937),\n",
       " ('Growth', 0.5724401761858937),\n",
       " ('Campus', 0.4913471545642608),\n",
       " ('used', 0.22333961571102764),\n",
       " ('specialise', 0.13010004004224857),\n",
       " ('landmark', 0.13010004004224857),\n",
       " ('Helpful', 0.31802232010327425),\n",
       " ('Understanding', 0.31802232010327425),\n",
       " ('Indian', 0.31802232010327425),\n",
       " ('learn', 0.29262507498801826),\n",
       " ('meet', 0.26020008008449713),\n",
       " ('stakeholder', 0.26020008008449713),\n",
       " ('supportive', 0.4088858401327812),\n",
       " ('culture', 0.19401764059331347),\n",
       " ('work', 0.18999322959807113),\n",
       " ('learning', 0.4913471545642608),\n",
       " ('growth', 0.43381074007390463),\n",
       " ('culture', 0.2716246968306389),\n",
       " ('Good', 0.3054302439580517),\n",
       " ('Management', 0.24598441996826295),\n",
       " ('life', 0.20879382808256133),\n",
       " ('cultureCompany', 0.1244435165621508),\n",
       " ('focuses', 0.1244435165621508),\n",
       " ('balancePlanned', 0.1244435165621508),\n",
       " ('Work', 0.1639896133121753),\n",
       " ('benefits', 0.09640238668308992),\n",
       " ('company', 0.09640238668308992),\n",
       " ('decent', 0.2385167400774557),\n",
       " ('Decent', 0.1807544750307936),\n",
       " ('fairly', 0.11925837003872786),\n",
       " ('nice', 0.4088858401327812),\n",
       " ('campus', 0.25194122746590836),\n",
       " ('life', 0.17896613835648115),\n",
       " ('divided', 0.35777511011618357),\n",
       " ('hence', 0.35777511011618357),\n",
       " ('necessity', 0.35777511011618357),\n",
       " ('Work', 0.27673247246429583),\n",
       " ('flexible', 0.17888755505809179),\n",
       " ('Less', 0.17888755505809179),\n",
       " ('excellent', 0.277987164150759),\n",
       " ('best', 0.2044429200663906),\n",
       " ('start', 0.2044429200663906),\n",
       " ('Meena', 0.14311004404647343),\n",
       " ('Ganesh', 0.14311004404647343),\n",
       " ('brought', 0.14311004404647343),\n",
       " ('Open', 0.11925837003872786),\n",
       " ('interaction', 0.11925837003872786),\n",
       " ('boundaries', 0.11925837003872786),\n",
       " ('levels', 0.28622008809294686),\n",
       " ('security', 0.28622008809294686),\n",
       " ('Work-Life', 0.2456735772821304),\n",
       " ('awesome', 0.4770334801549114),\n",
       " ('People', 0.40945596213688396),\n",
       " ('friendly', 0.40945596213688396),\n",
       " ('Great', 0.18861336524952374),\n",
       " ('travel', 0.1244435165621508),\n",
       " ('opportunities2', 0.1244435165621508),\n",
       " ('love', 0.35777511011618357),\n",
       " ('lots', 0.35777511011618357),\n",
       " ('time', 0.35777511011618357),\n",
       " ('learn', 0.20117973905426254),\n",
       " ('Challenging', 0.17888755505809179),\n",
       " ('roles', 0.17888755505809179),\n",
       " ('looking', 0.2385167400774557),\n",
       " ('including', 0.2385167400774557),\n",
       " ('cabs', 0.2385167400774557),\n",
       " ('world', 0.4088858401327812),\n",
       " ('exposure', 0.35096225326018626),\n",
       " ('UK', 0.35096225326018626)]"
      ]
     },
     "execution_count": 132,
     "metadata": {},
     "output_type": "execute_result"
    }
   ],
   "source": [
    "emp = []\n",
    "for i in range(len(all_words)):\n",
    "    for j in range(0,3):\n",
    "        emp.append(all_words[i][j])\n",
    "emp"
   ]
  },
  {
   "cell_type": "code",
   "execution_count": 133,
   "metadata": {
    "scrolled": true
   },
   "outputs": [
    {
     "data": {
      "text/plain": [
       "[('atmosphere', 0.5724401761858937),\n",
       " ('helpful', 0.5724401761858937),\n",
       " ('Growth', 0.5724401761858937),\n",
       " ('learning', 0.4913471545642608),\n",
       " ('Campus', 0.4913471545642608),\n",
       " ('benefits.2', 0.4770334801549114),\n",
       " ('awesome', 0.4770334801549114),\n",
       " ('growth', 0.43381074007390463),\n",
       " ('People', 0.40945596213688396),\n",
       " ('friendly', 0.40945596213688396),\n",
       " ('HR', 0.4088858401327812),\n",
       " ('Floor', 0.4088858401327812),\n",
       " ('breath', 0.4088858401327812),\n",
       " ('ambitious', 0.4088858401327812),\n",
       " ('strong', 0.4088858401327812),\n",
       " ('supportive', 0.4088858401327812),\n",
       " ('nice', 0.4088858401327812),\n",
       " ('world', 0.4088858401327812),\n",
       " ('1', 0.3615089500615872),\n",
       " ('Transport', 0.35777511011618357),\n",
       " ('facility', 0.35777511011618357),\n",
       " ('Transparent', 0.35777511011618357),\n",
       " ('managers', 0.35777511011618357),\n",
       " ('get', 0.35777511011618357),\n",
       " ('independence', 0.35777511011618357),\n",
       " ('without', 0.35777511011618357),\n",
       " ('divided', 0.35777511011618357),\n",
       " ('hence', 0.35777511011618357),\n",
       " ('necessity', 0.35777511011618357),\n",
       " ('love', 0.35777511011618357),\n",
       " ('lots', 0.35777511011618357),\n",
       " ('time', 0.35777511011618357),\n",
       " ('space', 0.35096225326018626),\n",
       " ('exposure', 0.35096225326018626),\n",
       " ('UK', 0.35096225326018626),\n",
       " ('transformation', 0.3367295154034669),\n",
       " ('Helpful', 0.31802232010327425),\n",
       " ('Understanding', 0.31802232010327425),\n",
       " ('Indian', 0.31802232010327425),\n",
       " ('Friendly', 0.307091971602663),\n",
       " ('Good', 0.3054302439580517),\n",
       " ('professional', 0.28622008809294686),\n",
       " ('levels', 0.28622008809294686),\n",
       " ('security', 0.28622008809294686),\n",
       " ('excellent', 0.277987164150759),\n",
       " ('Work', 0.27673247246429583),\n",
       " ('culture', 0.2716246968306389),\n",
       " ('working', 0.2711317125461904),\n",
       " ('meet', 0.26020008008449713),\n",
       " ('stakeholder', 0.26020008008449713),\n",
       " ('campus', 0.25194122746590836),\n",
       " ('Management', 0.24598441996826295),\n",
       " ('Supportive', 0.2456735772821304),\n",
       " ('Work-Life', 0.2456735772821304),\n",
       " ('decent', 0.2385167400774557),\n",
       " ('looking', 0.2385167400774557),\n",
       " ('including', 0.2385167400774557),\n",
       " ('cabs', 0.2385167400774557),\n",
       " ('used', 0.22333961571102764),\n",
       " ('Process', 0.2044429200663906),\n",
       " ('process', 0.2044429200663906),\n",
       " ('best', 0.2044429200663906),\n",
       " ('start', 0.2044429200663906),\n",
       " ('learn', 0.20117973905426254),\n",
       " ('work', 0.18999322959807113),\n",
       " ('Great', 0.18861336524952374),\n",
       " ('Decent', 0.1807544750307936),\n",
       " ('life', 0.17896613835648115),\n",
       " ('balanceGood', 0.17888755505809179),\n",
       " ('Innovative', 0.17888755505809179),\n",
       " ('flexible', 0.17888755505809179),\n",
       " ('Less', 0.17888755505809179),\n",
       " ('Challenging', 0.17888755505809179),\n",
       " ('roles', 0.17888755505809179),\n",
       " ('Making', 0.16836475770173345),\n",
       " ('rapid', 0.16836475770173345),\n",
       " ('Meena', 0.14311004404647343),\n",
       " ('Ganesh', 0.14311004404647343),\n",
       " ('brought', 0.14311004404647343),\n",
       " ('change', 0.1362952800442604),\n",
       " ('many', 0.1362952800442604),\n",
       " ('provided', 0.1362952800442604),\n",
       " ('specialise', 0.13010004004224857),\n",
       " ('landmark', 0.13010004004224857),\n",
       " ('cultureCompany', 0.1244435165621508),\n",
       " ('focuses', 0.1244435165621508),\n",
       " ('balancePlanned', 0.1244435165621508),\n",
       " ('travel', 0.1244435165621508),\n",
       " ('opportunities2', 0.1244435165621508),\n",
       " ('fairly', 0.11925837003872786),\n",
       " ('Open', 0.11925837003872786),\n",
       " ('interaction', 0.11925837003872786),\n",
       " ('boundaries', 0.11925837003872786),\n",
       " ('benefits', 0.09640238668308992),\n",
       " ('company', 0.09640238668308992)]"
      ]
     },
     "execution_count": 133,
     "metadata": {},
     "output_type": "execute_result"
    }
   ],
   "source": [
    "emp_dict = dict((x, y) for x, y in emp)\n",
    "sort_all_words = sorted(emp_dict.items(), key=lambda x: x[1], reverse=True)\n",
    "sort_all_words"
   ]
  },
  {
   "cell_type": "code",
   "execution_count": 144,
   "metadata": {},
   "outputs": [
    {
     "name": "stdout",
     "output_type": "stream",
     "text": [
      "0    Mgmt\n",
      "1    Mgmt\n",
      "2    None\n",
      "3    Mgmt\n",
      "4    Mgmt\n",
      "Name: check_Mgmt, dtype: object\n",
      "(35, 18)\n",
      "(29, 18)\n"
     ]
    }
   ],
   "source": [
    "WL_dict = { \"WL\": [\"work\",\"place\"] }\n",
    "Mgmt_dict = { \"Mgmt\": [\"management\",\"manager\",\"Employee\"] }\n",
    "\n",
    "def check_Mgmt(input_str):\n",
    "    for words in Mgmt_dict.values():\n",
    "        for word in words:\n",
    "            if word in input_str:\n",
    "                return \"Mgmt\"\n",
    "\n",
    "frame['check_Mgmt'] = frame.Pros.apply(check_Mgmt)\n",
    "print(frame['check_Mgmt'].head(5))\n",
    "print(frame.shape)\n",
    "Mgmt_frame = frame.loc[frame['check_Mgmt'] =='Mgmt'] \n",
    "print(Mgmt_frame.shape)"
   ]
  }
 ],
 "metadata": {
  "kernelspec": {
   "display_name": "Python 3",
   "language": "python",
   "name": "python3"
  },
  "language_info": {
   "codemirror_mode": {
    "name": "ipython",
    "version": 3
   },
   "file_extension": ".py",
   "mimetype": "text/x-python",
   "name": "python",
   "nbconvert_exporter": "python",
   "pygments_lexer": "ipython3",
   "version": "3.7.3"
  }
 },
 "nbformat": 4,
 "nbformat_minor": 2
}
