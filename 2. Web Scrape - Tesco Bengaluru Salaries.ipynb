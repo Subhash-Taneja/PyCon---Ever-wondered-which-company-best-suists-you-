{
 "cells": [
  {
   "cell_type": "code",
   "execution_count": 3,
   "metadata": {
    "collapsed": true
   },
   "outputs": [],
   "source": [
    "import urllib.request, sys\n",
    "from bs4 import BeautifulSoup\n",
    "from pandas import DataFrame"
   ]
  },
  {
   "cell_type": "code",
   "execution_count": 74,
   "metadata": {
    "collapsed": true
   },
   "outputs": [],
   "source": [
    "url = \"https://www.glassdoor.co.in/Salary/Tesco-Bengaluru-Salaries-E341690.htm\"\n",
    "hdr = {'User-Agent': 'Chrome'}\n",
    "req = urllib.request.Request(url,headers=hdr)\n",
    "response = urllib.request.urlopen(req)\n",
    "soup = BeautifulSoup(response,\"html.parser\")\n",
    "containers = soup.findAll(\"div\",{\"class\":\"row\"})"
   ]
  },
  {
   "cell_type": "code",
   "execution_count": 75,
   "metadata": {},
   "outputs": [
    {
     "data": {
      "text/plain": [
       "'Software Engineer'"
      ]
     },
     "execution_count": 75,
     "metadata": {},
     "output_type": "execute_result"
    }
   ],
   "source": [
    "containers[0].find(\"div\",{\"class\":\"employerSalaryInfo tightVert\"}).span.text.strip()"
   ]
  },
  {
   "cell_type": "code",
   "execution_count": 76,
   "metadata": {},
   "outputs": [
    {
     "data": {
      "text/plain": [
       "'69 salaries'"
      ]
     },
     "execution_count": 76,
     "metadata": {},
     "output_type": "execute_result"
    }
   ],
   "source": [
    "containers[0].find(\"div\",{\"class\":\"salaryCount minor\"}).text.strip()"
   ]
  },
  {
   "cell_type": "code",
   "execution_count": 82,
   "metadata": {},
   "outputs": [
    {
     "data": {
      "text/plain": [
       "'5,40,002'"
      ]
     },
     "execution_count": 82,
     "metadata": {},
     "output_type": "execute_result"
    }
   ],
   "source": [
    "containers[0].find(\"div\",{\"class\":\"hideDesk meanPay padTop aboveRangeBar\"}).strong.text.strip()"
   ]
  },
  {
   "cell_type": "code",
   "execution_count": 78,
   "metadata": {},
   "outputs": [
    {
     "data": {
      "text/plain": [
       "'₹375k'"
      ]
     },
     "execution_count": 78,
     "metadata": {},
     "output_type": "execute_result"
    }
   ],
   "source": [
    "containers[0].find(\"div\",{\"class\":\"minor cell alignLt minPay\"}).text.strip()"
   ]
  },
  {
   "cell_type": "code",
   "execution_count": 79,
   "metadata": {},
   "outputs": [
    {
     "data": {
      "text/plain": [
       "'₹760k'"
      ]
     },
     "execution_count": 79,
     "metadata": {},
     "output_type": "execute_result"
    }
   ],
   "source": [
    "containers[0].find(\"div\",{\"class\":\"minor cell alignRt maxPay\"}).text.strip()"
   ]
  },
  {
   "cell_type": "code",
   "execution_count": 85,
   "metadata": {},
   "outputs": [
    {
     "data": {
      "text/plain": [
       "'k'"
      ]
     },
     "execution_count": 85,
     "metadata": {},
     "output_type": "execute_result"
    }
   ],
   "source": [
    "a = containers[0].find(\"div\",{\"class\":\"minor cell alignRt maxPay\"}).text.strip()\n",
    "a[-1:]"
   ]
  },
  {
   "cell_type": "code",
   "execution_count": 63,
   "metadata": {},
   "outputs": [
    {
     "data": {
      "text/plain": [
       "'k'"
      ]
     },
     "execution_count": 63,
     "metadata": {},
     "output_type": "execute_result"
    }
   ],
   "source": [
    "salary = containers[0].find(\"div\",{\"class\":\"hideDesk meanPay padTop aboveRangeBar\"}).strong.text.strip()\n",
    "flag = salary.find(' - ') + 4\n",
    "flag2 = salary.find(' - ')\n",
    "(salary[1:-flag])\n",
    "(salary[flag:-1])\n",
    "(salary[flag2-1])\n",
    "(salary[-1:])"
   ]
  },
  {
   "cell_type": "code",
   "execution_count": 95,
   "metadata": {},
   "outputs": [
    {
     "name": "stdout",
     "output_type": "stream",
     "text": [
      "start of pg1\n"
     ]
    }
   ],
   "source": [
    "#Sample for one page\n",
    "Profile = []\n",
    "Samples = []\n",
    "Salary_Range = []\n",
    "Min_Salary =[]\n",
    "Max_Salary =[]\n",
    "Min_Units = []\n",
    "Max_Units = []\n",
    "\n",
    "url = \"https://www.glassdoor.co.in/Salary/Tesco-Bengaluru-Salaries-E341690.htm\"\n",
    "hdr = {'User-Agent': 'Chrome'}\n",
    "req = urllib.request.Request(url,headers=hdr)\n",
    "response = urllib.request.urlopen(req)\n",
    "soup = BeautifulSoup(response,\"html.parser\")\n",
    "containers = soup.findAll(\"div\",{\"class\":\"row\"})\n",
    "print(\"start of pg1\")\n",
    "for container in containers:\n",
    "    Profile.append(container.find(\"div\",{\"class\":\"employerSalaryInfo tightVert\"}).span.text.strip())\n",
    "    Samples.append(container.find(\"div\",{\"class\":\"salaryCount minor\"}).text.strip())\n",
    "    Salary_Range.append(container.find(\"div\",{\"class\":\"hideDesk meanPay padTop aboveRangeBar\"}).strong.text.strip())\n",
    "    Min_Units.append(container.find(\"div\",{\"class\":\"minor cell alignLt minPay\"}).text.strip()[-1:])\n",
    "    Max_Units.append(container.find(\"div\",{\"class\":\"minor cell alignRt maxPay\"}).text.strip()[-1:])\n",
    "    Min_Salary.append(container.find(\"div\",{\"class\":\"minor cell alignLt minPay\"}).text.strip()[1:-1])\n",
    "    Max_Salary.append(container.find(\"div\",{\"class\":\"minor cell alignRt maxPay\"}).text.strip()[1:-1])\n",
    "    \n",
    "data = {\"Profile\":Profile,\"Samples\":Samples,\"Salary_Range\":Salary_Range,\n",
    "        \"Min_Salary\":Min_Salary,\"Max_Salary\":Max_Salary,\"Min_Units\":Min_Units,\"Max_Units\":Max_Units}\n",
    "\n",
    "frame = DataFrame(data,columns= [\"Profile\",\"Samples\",\"Salary_Range\",\"Min_Salary\",\"Max_Salary\",\"Min_Units\",\"Max_Units\"])\n",
    "\n",
    "frame.to_csv('sal1.csv')"
   ]
  },
  {
   "cell_type": "code",
   "execution_count": 96,
   "metadata": {},
   "outputs": [
    {
     "name": "stdout",
     "output_type": "stream",
     "text": [
      "start of pg1\n",
      "start of pg2\n",
      "start of pg3\n",
      "start of pg4\n",
      "start of pg5\n",
      "start of pg6\n",
      "start of pg7\n",
      "start of pg8\n",
      "start of pg9\n"
     ]
    }
   ],
   "source": [
    "Profile = []\n",
    "Samples = []\n",
    "Salary_Range = []\n",
    "Min_Salary =[]\n",
    "Max_Salary =[]\n",
    "Min_Units = []\n",
    "Max_Units = []\n",
    "\n",
    "# There are  pages\n",
    "\n",
    "url = \"https://www.glassdoor.co.in/Salary/Tesco-Bengaluru-Salaries-E341690.htm\"\n",
    "hdr = {'User-Agent': 'Chrome'}\n",
    "req = urllib.request.Request(url,headers=hdr)\n",
    "response = urllib.request.urlopen(req)\n",
    "soup = BeautifulSoup(response,\"html.parser\")\n",
    "containers = soup.findAll(\"div\",{\"class\":\"row\"})\n",
    "print(\"start of pg1\")\n",
    "for container in containers:\n",
    "    Profile.append(container.find(\"div\",{\"class\":\"employerSalaryInfo tightVert\"}).span.text.strip())\n",
    "    Samples.append(container.find(\"div\",{\"class\":\"salaryCount minor\"}).text.strip())\n",
    "    Salary_Range.append(container.find(\"div\",{\"class\":\"hideDesk meanPay padTop aboveRangeBar\"}).strong.text.strip())\n",
    "    Min_Units.append(container.find(\"div\",{\"class\":\"minor cell alignLt minPay\"}).text.strip()[-1:])\n",
    "    Max_Units.append(container.find(\"div\",{\"class\":\"minor cell alignRt maxPay\"}).text.strip()[-1:])\n",
    "    Min_Salary.append(container.find(\"div\",{\"class\":\"minor cell alignLt minPay\"}).text.strip()[1:-1])\n",
    "    Max_Salary.append(container.find(\"div\",{\"class\":\"minor cell alignRt maxPay\"}).text.strip()[1:-1])\n",
    "        \n",
    "for i in range(2,10):\n",
    "    print(\"start of pg\"+str(i))\n",
    "    url = \"https://www.glassdoor.co.in/Salary/Tesco-Bengaluru-Salaries-E341690_P\"+str(i)+\".htm\"\n",
    "    hdr = {'User-Agent': 'Chrome'}\n",
    "    req = urllib.request.Request(url,headers=hdr)\n",
    "    response = urllib.request.urlopen(req)\n",
    "    soup = BeautifulSoup(response,\"html.parser\")\n",
    "    containers = soup.findAll(\"div\",{\"class\":\"row\"})\n",
    "\n",
    "    for container in containers:\n",
    "        Profile.append(container.find(\"div\",{\"class\":\"employerSalaryInfo tightVert\"}).span.text.strip())\n",
    "        Samples.append(container.find(\"div\",{\"class\":\"salaryCount minor\"}).text.strip())\n",
    "        Salary_Range.append(container.find(\"div\",{\"class\":\"hideDesk meanPay padTop aboveRangeBar\"}).strong.text.strip())\n",
    "        Min_Units.append(container.find(\"div\",{\"class\":\"minor cell alignLt minPay\"}).text.strip()[-1:])\n",
    "        Max_Units.append(container.find(\"div\",{\"class\":\"minor cell alignRt maxPay\"}).text.strip()[-1:])\n",
    "        Min_Salary.append(container.find(\"div\",{\"class\":\"minor cell alignLt minPay\"}).text.strip()[1:-1])\n",
    "        Max_Salary.append(container.find(\"div\",{\"class\":\"minor cell alignRt maxPay\"}).text.strip()[1:-1])\n",
    "\n",
    "data = {\"Profile\":Profile,\"Samples\":Samples,\"Salary_Range\":Salary_Range,\n",
    "        \"Min_Salary\":Min_Salary,\"Max_Salary\":Max_Salary,\"Min_Units\":Min_Units,\"Max_Units\":Max_Units}\n",
    "\n",
    "frame = DataFrame(data,columns= [\"Profile\",\"Samples\",\"Salary_Range\",\"Min_Salary\",\"Max_Salary\",\"Min_Units\",\"Max_Units\"])\n",
    "\n",
    "frame.to_csv('Codes_v7_Tesco_Bengaluru_Salaries.csv')"
   ]
  },
  {
   "cell_type": "code",
   "execution_count": null,
   "metadata": {
    "collapsed": true
   },
   "outputs": [],
   "source": []
  }
 ],
 "metadata": {
  "kernelspec": {
   "display_name": "Python 3",
   "language": "python",
   "name": "python3"
  },
  "language_info": {
   "codemirror_mode": {
    "name": "ipython",
    "version": 3
   },
   "file_extension": ".py",
   "mimetype": "text/x-python",
   "name": "python",
   "nbconvert_exporter": "python",
   "pygments_lexer": "ipython3",
   "version": "3.7.3"
  }
 },
 "nbformat": 4,
 "nbformat_minor": 2
}
